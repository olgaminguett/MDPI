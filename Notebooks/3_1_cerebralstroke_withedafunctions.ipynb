{
 "cells": [
  {
   "cell_type": "markdown",
   "metadata": {},
   "source": [
    "# 3. Cerebral Stroke \n",
    "# IMBALANCE PROPERTIES: EXTREME"
   ]
  },
  {
   "cell_type": "markdown",
   "metadata": {},
   "source": [
    "# Contents\n",
    "1. [Exploratory Data Analysis](#EDA)\n",
    "2. [Feature Transformation](#FTrans)\n",
    "3. [Feature Importance](#FI)\n",
    "4. [Feature Normalization](#FE)\n",
    "5. [Sampling Techniques](#ST)\n",
    "6. [Modelling](#Mo)\n",
    "7. [Model Evaluation](#MOE)\n",
    "8. [Results](#RS)\n",
    "    1. [Support Vector Machine (SVM)](#SVM)\n",
    "    2. [Decision Tree (DT)](#DT)\n",
    "    3. [Gaussian Naïve Bayes (GNB)](#GNB)\n",
    "    4. [K-Nearest Neighbourhood (KNN)](#KNN)\n",
    "    5. [Logistic Regression (LR)](#LR)"
   ]
  },
  {
   "cell_type": "code",
   "execution_count": 1,
   "metadata": {},
   "outputs": [],
   "source": [
    "import pandas as pd\n",
    "import numpy as np\n",
    "import seaborn as sns\n",
    "import matplotlib.pyplot as plt\n",
    "\n",
    "sns.set_style(\"whitegrid\")\n",
    "%matplotlib inline"
   ]
  },
  {
   "cell_type": "markdown",
   "metadata": {},
   "source": [
    "<a id=\"EDA\"></a>\n",
    "# 1. Exploratory Data Analysis"
   ]
  },
  {
   "cell_type": "code",
   "execution_count": 2,
   "metadata": {},
   "outputs": [],
   "source": [
    "path = '/Users/ominguet/Desktop/ClassImbalance_MedicalDatasets/data/external/cerebralstroke.csv'"
   ]
  },
  {
   "cell_type": "code",
   "execution_count": 3,
   "metadata": {},
   "outputs": [],
   "source": [
    "def eda_stats(path):\n",
    "    \"\"\"  \n",
    "    Exploratory Data Analysis Summary Statistics of the dataframe\n",
    "   \n",
    "    Args:\n",
    "        path: valid string path to filename\n",
    "    \n",
    "    Return: \n",
    "        None\n",
    " \n",
    "    \"\"\"\n",
    "    #Read the dataset\n",
    "    df = pd.read_csv(path, sep=',', encoding='utf-8')\n",
    "    print('-------------------------------------------------------------')\n",
    "    print('')\n",
    "    # Dataframe columns\n",
    "    print('Dataframe Columns:')\n",
    "    print(df.columns)\n",
    "    print('')\n",
    "    print('-------------------------------------------------------------')\n",
    "    print('')\n",
    "    #Concise summary of the dataframe\n",
    "    print('Dataframe Summary:')\n",
    "    print(df.info())\n",
    "    print('')\n",
    "    print('-------------------------------------------------------------')\n",
    "    print('')\n",
    "    #Returns the dimensions of the array rows & columns\n",
    "    print('Dataframe Dimensions:')\n",
    "    print('# of rows:',df.shape[0])\n",
    "    print('# of columns:',df.shape[1])\n",
    "    print('')\n",
    "    print('-------------------------------------------------------------')\n",
    "    print('')\n",
    "    #Descriptive or summary statistics of numeric columns\n",
    "    print('Dataframe Summary Statistics:')\n",
    "    print(df.describe())\n",
    "    print('')\n",
    "    print('-------------------------------------------------------------')\n",
    "    #Returns missing values\n",
    "    print('Dataframe Missing Values:')\n",
    "    print(df.isna().mean().round(4) * 100)\n",
    "    print('')\n",
    "    print('-------------------------------------------------------------')"
   ]
  },
  {
   "cell_type": "code",
   "execution_count": 4,
   "metadata": {},
   "outputs": [],
   "source": [
    "def eda_datavisualization(path, n=5):\n",
    "    \"\"\"  \n",
    "    Exploratory Data Analysis data visualization first, last and \n",
    "    random sample rows of the dataframe\n",
    "   \n",
    "    Args:\n",
    "        path: valid string path to filename\n",
    "        n: number of rows to select. Default = 5\n",
    "    \n",
    "    Return: \n",
    "        None\n",
    " \n",
    "    \"\"\"\n",
    "    #Read the dataset\n",
    "    df = pd.read_csv(path, sep=',', encoding='utf-8')\n",
    "    print('-------------------------------------------------------------')\n",
    "    print('')\n",
    "    #Return first rows of dataframe\n",
    "    print('Dataframe Head:')\n",
    "    print(df.head(n))\n",
    "    print('')\n",
    "    print('-------------------------------------------------------------')\n",
    "    print('')\n",
    "    #Return last rows of dataframe\n",
    "    print('Dataframe Tail:')\n",
    "    print(df.tail(n))\n",
    "    print('')\n",
    "    print('-------------------------------------------------------------')\n",
    "    print('')\n",
    "    #Return random sample of rows from dataframe\n",
    "    print('Dataframe Sample:')\n",
    "    print(df.sample(n))\n",
    "    print('')\n",
    "    print('-------------------------------------------------------------')"
   ]
  },
  {
   "cell_type": "code",
   "execution_count": 5,
   "metadata": {},
   "outputs": [],
   "source": [
    "def eda_datadistribution(path):\n",
    "    \"\"\"  \n",
    "    Exploratory Data Analysis data distribution of the numerics values \n",
    "    of the dataframe. \n",
    "    - Boxplot: representation of numerical data groups by their quartiles\n",
    "    - Histogram: representation of the distribution of the numerical data\n",
    "    - Heatmap: representation of the relationship or correlation of the \n",
    "        numerical values with the dataframe\n",
    "   \n",
    "    Args:\n",
    "        path: valid string path to filename\n",
    "    \n",
    "    Return: \n",
    "        None\n",
    " \n",
    "    \"\"\"\n",
    "    #Read the dataset\n",
    "    df = pd.read_csv(path, sep=',', encoding='utf-8')\n",
    "    print('-------------------------------------------------------------')\n",
    "    print('')\n",
    "    print('Representation of the distribution of numeric data:')\n",
    "    df.boxplot(widths = 0.6, rot=45, figsize=[20,10])\n",
    "    print('')\n",
    "    df.hist(figsize=[15,10])\n",
    "    print('')\n",
    "    corrMatrix = df.corr()\n",
    "    fig, ax = plt.subplots(figsize=(10,10)) \n",
    "    ax = sns.heatmap(corrMatrix, square=True, annot=True, ax=ax)\n",
    "    ax.set_title('Heatmap Correlation Matrix of numeric data')\n",
    "    plt.show()\n",
    "    print('-------------------------------------------------------------')"
   ]
  },
  {
   "cell_type": "code",
   "execution_count": 6,
   "metadata": {},
   "outputs": [],
   "source": [
    "def eda_labelinformation(column_name):\n",
    "    \"\"\"  \n",
    "    Exploratory Data Analysis of the target feature\n",
    "   \n",
    "    Args:\n",
    "        column_name: valid string column name from the \n",
    "            dataframe\n",
    "    \n",
    "    Return: \n",
    "        None\n",
    " \n",
    "    \"\"\"\n",
    "    #Read the dataset\n",
    "    df = pd.read_csv(path, sep=',', encoding='utf-8')\n",
    "    # Display value counts of the label\n",
    "    print('-------------------------------------------------------------')\n",
    "    print('')\n",
    "    print('Value counts of the Target Feature')\n",
    "    print(df[column_name].value_counts())\n",
    "    print('')    \n",
    "    print('-------------------------------------------------------------')\n",
    "    print('')\n",
    "    print('Percentage of Imbalance Property: {:.2f}%'.format((df[column_name].value_counts()[1] * 100 / df[column_name].value_counts()[0])))\n",
    "    print('')\n",
    "    print('-------------------------------------------------------------')\n",
    "    print('')\n",
    "    ax = sns.countplot(x = df[column_name])\n",
    "    ax.set_title('Number of Observations per Class', fontsize=18)\n",
    "    ax.set_xlabel(column_name, fontsize=16)\n",
    "    ax.set_ylabel('count', fontsize=16)\n",
    "    plt.show()\n",
    "    print('')\n",
    "    print('-------------------------------------------------------------')"
   ]
  },
  {
   "cell_type": "code",
   "execution_count": 7,
   "metadata": {},
   "outputs": [
    {
     "name": "stdout",
     "output_type": "stream",
     "text": [
      "-------------------------------------------------------------\n",
      "\n",
      "Dataframe Columns:\n",
      "Index(['id', 'gender', 'age', 'hypertension', 'heart_disease', 'ever_married',\n",
      "       'work_type', 'Residence_type', 'avg_glucose_level', 'bmi',\n",
      "       'smoking_status', 'stroke'],\n",
      "      dtype='object')\n",
      "\n",
      "-------------------------------------------------------------\n",
      "\n",
      "Dataframe Summary:\n",
      "<class 'pandas.core.frame.DataFrame'>\n",
      "RangeIndex: 43400 entries, 0 to 43399\n",
      "Data columns (total 12 columns):\n",
      " #   Column             Non-Null Count  Dtype  \n",
      "---  ------             --------------  -----  \n",
      " 0   id                 43400 non-null  int64  \n",
      " 1   gender             43400 non-null  object \n",
      " 2   age                43400 non-null  float64\n",
      " 3   hypertension       43400 non-null  int64  \n",
      " 4   heart_disease      43400 non-null  int64  \n",
      " 5   ever_married       43400 non-null  object \n",
      " 6   work_type          43400 non-null  object \n",
      " 7   Residence_type     43400 non-null  object \n",
      " 8   avg_glucose_level  43400 non-null  float64\n",
      " 9   bmi                41938 non-null  float64\n",
      " 10  smoking_status     30108 non-null  object \n",
      " 11  stroke             43400 non-null  int64  \n",
      "dtypes: float64(3), int64(4), object(5)\n",
      "memory usage: 4.0+ MB\n",
      "None\n",
      "\n",
      "-------------------------------------------------------------\n",
      "\n",
      "Dataframe Dimensions:\n",
      "# of rows: 43400\n",
      "# of columns: 12\n",
      "\n",
      "-------------------------------------------------------------\n",
      "\n",
      "Dataframe Summary Statistics:\n",
      "                 id           age  hypertension  heart_disease  \\\n",
      "count  43400.000000  43400.000000  43400.000000   43400.000000   \n",
      "mean   36326.142350     42.217894      0.093571       0.047512   \n",
      "std    21072.134879     22.519649      0.291235       0.212733   \n",
      "min        1.000000      0.080000      0.000000       0.000000   \n",
      "25%    18038.500000     24.000000      0.000000       0.000000   \n",
      "50%    36351.500000     44.000000      0.000000       0.000000   \n",
      "75%    54514.250000     60.000000      0.000000       0.000000   \n",
      "max    72943.000000     82.000000      1.000000       1.000000   \n",
      "\n",
      "       avg_glucose_level           bmi        stroke  \n",
      "count       43400.000000  41938.000000  43400.000000  \n",
      "mean          104.482750     28.605038      0.018041  \n",
      "std            43.111751      7.770020      0.133103  \n",
      "min            55.000000     10.100000      0.000000  \n",
      "25%            77.540000     23.200000      0.000000  \n",
      "50%            91.580000     27.700000      0.000000  \n",
      "75%           112.070000     32.900000      0.000000  \n",
      "max           291.050000     97.600000      1.000000  \n",
      "\n",
      "-------------------------------------------------------------\n",
      "Dataframe Missing Values:\n",
      "id                    0.00\n",
      "gender                0.00\n",
      "age                   0.00\n",
      "hypertension          0.00\n",
      "heart_disease         0.00\n",
      "ever_married          0.00\n",
      "work_type             0.00\n",
      "Residence_type        0.00\n",
      "avg_glucose_level     0.00\n",
      "bmi                   3.37\n",
      "smoking_status       30.63\n",
      "stroke                0.00\n",
      "dtype: float64\n",
      "\n",
      "-------------------------------------------------------------\n"
     ]
    }
   ],
   "source": [
    "eda_stats(path)"
   ]
  },
  {
   "cell_type": "code",
   "execution_count": 8,
   "metadata": {},
   "outputs": [
    {
     "name": "stdout",
     "output_type": "stream",
     "text": [
      "-------------------------------------------------------------\n",
      "\n",
      "Dataframe Head:\n",
      "      id  gender   age  hypertension  heart_disease ever_married  \\\n",
      "0  30669    Male   3.0             0              0           No   \n",
      "1  30468    Male  58.0             1              0          Yes   \n",
      "2  16523  Female   8.0             0              0           No   \n",
      "3  56543  Female  70.0             0              0          Yes   \n",
      "4  46136    Male  14.0             0              0           No   \n",
      "\n",
      "      work_type Residence_type  avg_glucose_level   bmi   smoking_status  \\\n",
      "0      children          Rural              95.12  18.0              NaN   \n",
      "1       Private          Urban              87.96  39.2     never smoked   \n",
      "2       Private          Urban             110.89  17.6              NaN   \n",
      "3       Private          Rural              69.04  35.9  formerly smoked   \n",
      "4  Never_worked          Rural             161.28  19.1              NaN   \n",
      "\n",
      "   stroke  \n",
      "0       0  \n",
      "1       0  \n",
      "2       0  \n",
      "3       0  \n",
      "4       0  \n",
      "\n",
      "-------------------------------------------------------------\n",
      "\n",
      "Dataframe Tail:\n",
      "          id  gender   age  hypertension  heart_disease ever_married  \\\n",
      "43395  56196  Female  10.0             0              0           No   \n",
      "43396   5450  Female  56.0             0              0          Yes   \n",
      "43397  28375  Female  82.0             1              0          Yes   \n",
      "43398  27973    Male  40.0             0              0          Yes   \n",
      "43399  36271  Female  82.0             0              0          Yes   \n",
      "\n",
      "      work_type Residence_type  avg_glucose_level   bmi   smoking_status  \\\n",
      "43395  children          Urban              58.64  20.4     never smoked   \n",
      "43396  Govt_job          Urban             213.61  55.4  formerly smoked   \n",
      "43397   Private          Urban              91.94  28.9  formerly smoked   \n",
      "43398   Private          Urban              99.16  33.2     never smoked   \n",
      "43399   Private          Urban              79.48  20.6     never smoked   \n",
      "\n",
      "       stroke  \n",
      "43395       0  \n",
      "43396       0  \n",
      "43397       0  \n",
      "43398       0  \n",
      "43399       0  \n",
      "\n",
      "-------------------------------------------------------------\n",
      "\n",
      "Dataframe Sample:\n",
      "          id  gender   age  hypertension  heart_disease ever_married  \\\n",
      "25326  71006  Female  20.0             0              0           No   \n",
      "14553   2295    Male  31.0             0              0          Yes   \n",
      "382    46891  Female  74.0             0              0          Yes   \n",
      "27578  50049    Male  72.0             0              1          Yes   \n",
      "21084  14454    Male  59.0             0              0          Yes   \n",
      "\n",
      "      work_type Residence_type  avg_glucose_level   bmi smoking_status  stroke  \n",
      "25326   Private          Urban             110.93  28.6   never smoked       0  \n",
      "14553   Private          Rural             103.86  35.9   never smoked       0  \n",
      "382     Private          Rural              68.34  39.3            NaN       0  \n",
      "27578   Private          Rural             141.72  33.0            NaN       1  \n",
      "21084   Private          Rural             116.36  29.3            NaN       0  \n",
      "\n",
      "-------------------------------------------------------------\n"
     ]
    }
   ],
   "source": [
    "eda_datavisualization(path)"
   ]
  },
  {
   "cell_type": "code",
   "execution_count": 9,
   "metadata": {},
   "outputs": [
    {
     "name": "stdout",
     "output_type": "stream",
     "text": [
      "-------------------------------------------------------------\n",
      "\n",
      "Representation of the distribution of numeric data:\n",
      "\n",
      "\n"
     ]
    },
    {
     "data": {
      "image/png": "[encoded data removed]",
      "text/plain": [
       "<Figure size 1440x720 with 1 Axes>"
      ]
     },
     "metadata": {
      "needs_background": "light"
     },
     "output_type": "display_data"
    },
    {
     "data": {
      "image/png": "[encoded data removed]",
      "text/plain": [
       "<Figure size 1080x720 with 9 Axes>"
      ]
     },
     "metadata": {
      "needs_background": "light"
     },
     "output_type": "display_data"
    },
    {
     "data": {
      "image/png": "[encoded data removed]",
      "text/plain": [
       "<Figure size 720x720 with 2 Axes>"
      ]
     },
     "metadata": {
      "needs_background": "light"
     },
     "output_type": "display_data"
    },
    {
     "name": "stdout",
     "output_type": "stream",
     "text": [
      "-------------------------------------------------------------\n"
     ]
    }
   ],
   "source": [
    "eda_datadistribution(path)"
   ]
  },
  {
   "cell_type": "code",
   "execution_count": 10,
   "metadata": {},
   "outputs": [
    {
     "name": "stdout",
     "output_type": "stream",
     "text": [
      "-------------------------------------------------------------\n",
      "\n",
      "Value counts of the Target Feature\n",
      "0    42617\n",
      "1      783\n",
      "Name: stroke, dtype: int64\n",
      "\n",
      "-------------------------------------------------------------\n",
      "\n",
      "Percentage of Imbalance Property: 1.84%\n",
      "\n",
      "-------------------------------------------------------------\n",
      "\n"
     ]
    },
    {
     "data": {
      "image/png": "[encoded data removed]",
      "text/plain": [
       "<Figure size 432x288 with 1 Axes>"
      ]
     },
     "metadata": {
      "needs_background": "light"
     },
     "output_type": "display_data"
    },
    {
     "name": "stdout",
     "output_type": "stream",
     "text": [
      "\n",
      "-------------------------------------------------------------\n"
     ]
    }
   ],
   "source": [
    "eda_labelinformation('stroke')"
   ]
  },
  {
   "cell_type": "markdown",
   "metadata": {},
   "source": [
    "<a id=\"FTrans\"></a>\n",
    "# 2. Feature Transformation"
   ]
  },
  {
   "cell_type": "code",
   "execution_count": 11,
   "metadata": {},
   "outputs": [
    {
     "data": {
      "text/html": [
       "<div>\n",
       "<style scoped>\n",
       "    .dataframe tbody tr th:only-of-type {\n",
       "        vertical-align: middle;\n",
       "    }\n",
       "\n",
       "    .dataframe tbody tr th {\n",
       "        vertical-align: top;\n",
       "    }\n",
       "\n",
       "    .dataframe thead th {\n",
       "        text-align: right;\n",
       "    }\n",
       "</style>\n",
       "<table border=\"1\" class=\"dataframe\">\n",
       "  <thead>\n",
       "    <tr style=\"text-align: right;\">\n",
       "      <th></th>\n",
       "      <th></th>\n",
       "      <th>counts</th>\n",
       "    </tr>\n",
       "    <tr>\n",
       "      <th>column</th>\n",
       "      <th>value</th>\n",
       "      <th></th>\n",
       "    </tr>\n",
       "  </thead>\n",
       "  <tbody>\n",
       "    <tr>\n",
       "      <th rowspan=\"2\" valign=\"top\">Residence_type</th>\n",
       "      <th>Rural</th>\n",
       "      <td>21644</td>\n",
       "    </tr>\n",
       "    <tr>\n",
       "      <th>Urban</th>\n",
       "      <td>21756</td>\n",
       "    </tr>\n",
       "    <tr>\n",
       "      <th rowspan=\"2\" valign=\"top\">ever_married</th>\n",
       "      <th>No</th>\n",
       "      <td>15462</td>\n",
       "    </tr>\n",
       "    <tr>\n",
       "      <th>Yes</th>\n",
       "      <td>27938</td>\n",
       "    </tr>\n",
       "    <tr>\n",
       "      <th rowspan=\"3\" valign=\"top\">gender</th>\n",
       "      <th>Other</th>\n",
       "      <td>11</td>\n",
       "    </tr>\n",
       "    <tr>\n",
       "      <th>Male</th>\n",
       "      <td>17724</td>\n",
       "    </tr>\n",
       "    <tr>\n",
       "      <th>Female</th>\n",
       "      <td>25665</td>\n",
       "    </tr>\n",
       "    <tr>\n",
       "      <th rowspan=\"3\" valign=\"top\">smoking_status</th>\n",
       "      <th>smokes</th>\n",
       "      <td>6562</td>\n",
       "    </tr>\n",
       "    <tr>\n",
       "      <th>formerly smoked</th>\n",
       "      <td>7493</td>\n",
       "    </tr>\n",
       "    <tr>\n",
       "      <th>never smoked</th>\n",
       "      <td>16053</td>\n",
       "    </tr>\n",
       "    <tr>\n",
       "      <th rowspan=\"5\" valign=\"top\">work_type</th>\n",
       "      <th>Never_worked</th>\n",
       "      <td>177</td>\n",
       "    </tr>\n",
       "    <tr>\n",
       "      <th>Govt_job</th>\n",
       "      <td>5440</td>\n",
       "    </tr>\n",
       "    <tr>\n",
       "      <th>children</th>\n",
       "      <td>6156</td>\n",
       "    </tr>\n",
       "    <tr>\n",
       "      <th>Self-employed</th>\n",
       "      <td>6793</td>\n",
       "    </tr>\n",
       "    <tr>\n",
       "      <th>Private</th>\n",
       "      <td>24834</td>\n",
       "    </tr>\n",
       "  </tbody>\n",
       "</table>\n",
       "</div>"
      ],
      "text/plain": [
       "                                counts\n",
       "column         value                  \n",
       "Residence_type Rural             21644\n",
       "               Urban             21756\n",
       "ever_married   No                15462\n",
       "               Yes               27938\n",
       "gender         Other                11\n",
       "               Male              17724\n",
       "               Female            25665\n",
       "smoking_status smokes             6562\n",
       "               formerly smoked    7493\n",
       "               never smoked      16053\n",
       "work_type      Never_worked        177\n",
       "               Govt_job           5440\n",
       "               children           6156\n",
       "               Self-employed      6793\n",
       "               Private           24834"
      ]
     },
     "execution_count": 11,
     "metadata": {},
     "output_type": "execute_result"
    }
   ],
   "source": [
    "df = pd.read_csv(path, sep=',', encoding='utf-8')\n",
    "cat_cols = df.select_dtypes(include=object).columns.tolist()\n",
    "(pd.DataFrame(\n",
    "    df[cat_cols]\n",
    "    .melt(var_name='column', value_name='value')\n",
    "    .value_counts())\n",
    ".rename(columns={0: 'counts'})\n",
    ".sort_values(by=['column', 'counts']))"
   ]
  },
  {
   "cell_type": "markdown",
   "metadata": {},
   "source": [
    "Smoking Status"
   ]
  },
  {
   "cell_type": "code",
   "execution_count": 12,
   "metadata": {},
   "outputs": [],
   "source": [
    "df['smoking_status'] = df['smoking_status'].fillna('unknown')"
   ]
  },
  {
   "cell_type": "code",
   "execution_count": 13,
   "metadata": {},
   "outputs": [],
   "source": [
    "smoking_status_mapper = {\n",
    "    \"smokes\": 1,\n",
    "    \"formerly smoked\": 2,\n",
    "    \"never smoked\": 3,\n",
    "    \"unknown\": 4,\n",
    "}\n",
    "df['smoking_status'] = df['smoking_status'].replace(smoking_status_mapper)"
   ]
  },
  {
   "cell_type": "code",
   "execution_count": 14,
   "metadata": {},
   "outputs": [
    {
     "data": {
      "text/plain": [
       "3    16053\n",
       "4    13292\n",
       "2     7493\n",
       "1     6562\n",
       "Name: smoking_status, dtype: int64"
      ]
     },
     "execution_count": 14,
     "metadata": {},
     "output_type": "execute_result"
    }
   ],
   "source": [
    "df['smoking_status'].value_counts()"
   ]
  },
  {
   "cell_type": "markdown",
   "metadata": {},
   "source": [
    "Gender"
   ]
  },
  {
   "cell_type": "code",
   "execution_count": 15,
   "metadata": {},
   "outputs": [],
   "source": [
    "gender_mapper = {\n",
    "    \"Female\": 1,\n",
    "    \"Male\": 2,\n",
    "    \"Other\": 3\n",
    "}\n",
    "df['gender'] = df['gender'].replace(gender_mapper)"
   ]
  },
  {
   "cell_type": "code",
   "execution_count": 16,
   "metadata": {},
   "outputs": [
    {
     "data": {
      "text/plain": [
       "1    25665\n",
       "2    17724\n",
       "3       11\n",
       "Name: gender, dtype: int64"
      ]
     },
     "execution_count": 16,
     "metadata": {},
     "output_type": "execute_result"
    }
   ],
   "source": [
    "df['gender'].value_counts()"
   ]
  },
  {
   "cell_type": "markdown",
   "metadata": {},
   "source": [
    "Ever Married"
   ]
  },
  {
   "cell_type": "code",
   "execution_count": 17,
   "metadata": {},
   "outputs": [],
   "source": [
    "ever_married_mapper = {\n",
    "    \"No\": 1,\n",
    "    \"Yes\": 2\n",
    "}\n",
    "df['ever_married'] = df['ever_married'].replace(ever_married_mapper)"
   ]
  },
  {
   "cell_type": "code",
   "execution_count": 18,
   "metadata": {},
   "outputs": [
    {
     "data": {
      "text/plain": [
       "2    27938\n",
       "1    15462\n",
       "Name: ever_married, dtype: int64"
      ]
     },
     "execution_count": 18,
     "metadata": {},
     "output_type": "execute_result"
    }
   ],
   "source": [
    "df['ever_married'].value_counts()"
   ]
  },
  {
   "cell_type": "markdown",
   "metadata": {},
   "source": [
    "Work Type"
   ]
  },
  {
   "cell_type": "code",
   "execution_count": 19,
   "metadata": {},
   "outputs": [],
   "source": [
    "work_type_mapper = {\n",
    "    \"Private\": 1,\n",
    "    \"Self-employed\": 2,\n",
    "    \"children\": 3,\n",
    "    \"Govt_job\": 4,\n",
    "    \"Never_worked\": 5\n",
    "}\n",
    "df['work_type'] = df['work_type'].replace(work_type_mapper)"
   ]
  },
  {
   "cell_type": "code",
   "execution_count": 20,
   "metadata": {},
   "outputs": [
    {
     "data": {
      "text/plain": [
       "1    24834\n",
       "2     6793\n",
       "3     6156\n",
       "4     5440\n",
       "5      177\n",
       "Name: work_type, dtype: int64"
      ]
     },
     "execution_count": 20,
     "metadata": {},
     "output_type": "execute_result"
    }
   ],
   "source": [
    "df['work_type'].value_counts()"
   ]
  },
  {
   "cell_type": "markdown",
   "metadata": {},
   "source": [
    "Residence Type"
   ]
  },
  {
   "cell_type": "code",
   "execution_count": 21,
   "metadata": {},
   "outputs": [],
   "source": [
    "Residence_type_mapper = {\n",
    "    \"Urban\": 1,\n",
    "    \"Rural\": 2\n",
    "}\n",
    "df['Residence_type'] = df['Residence_type'].replace(Residence_type_mapper)"
   ]
  },
  {
   "cell_type": "code",
   "execution_count": 22,
   "metadata": {},
   "outputs": [
    {
     "data": {
      "text/plain": [
       "1    21756\n",
       "2    21644\n",
       "Name: Residence_type, dtype: int64"
      ]
     },
     "execution_count": 22,
     "metadata": {},
     "output_type": "execute_result"
    }
   ],
   "source": [
    "df['Residence_type'].value_counts()"
   ]
  },
  {
   "cell_type": "markdown",
   "metadata": {},
   "source": [
    "BMI"
   ]
  },
  {
   "cell_type": "code",
   "execution_count": 23,
   "metadata": {},
   "outputs": [
    {
     "data": {
      "text/plain": [
       "1462"
      ]
     },
     "execution_count": 23,
     "metadata": {},
     "output_type": "execute_result"
    }
   ],
   "source": [
    "df['bmi'].isna().sum()"
   ]
  },
  {
   "cell_type": "code",
   "execution_count": 24,
   "metadata": {},
   "outputs": [
    {
     "data": {
      "image/png": "[encoded data removed]",
      "text/plain": [
       "<Figure size 720x360 with 1 Axes>"
      ]
     },
     "metadata": {
      "needs_background": "light"
     },
     "output_type": "display_data"
    }
   ],
   "source": [
    "df['bmi'].hist(figsize=[10,5], bins=50);"
   ]
  },
  {
   "cell_type": "code",
   "execution_count": 25,
   "metadata": {},
   "outputs": [],
   "source": [
    "df['bmi'].fillna(df['bmi'].mode()[0], inplace=True)"
   ]
  },
  {
   "cell_type": "code",
   "execution_count": 26,
   "metadata": {},
   "outputs": [
    {
     "data": {
      "text/plain": [
       "0"
      ]
     },
     "execution_count": 26,
     "metadata": {},
     "output_type": "execute_result"
    }
   ],
   "source": [
    "df['bmi'].isna().sum()"
   ]
  },
  {
   "cell_type": "code",
   "execution_count": 27,
   "metadata": {},
   "outputs": [
    {
     "data": {
      "text/plain": [
       "id                   0.0\n",
       "gender               0.0\n",
       "age                  0.0\n",
       "hypertension         0.0\n",
       "heart_disease        0.0\n",
       "ever_married         0.0\n",
       "work_type            0.0\n",
       "Residence_type       0.0\n",
       "avg_glucose_level    0.0\n",
       "bmi                  0.0\n",
       "smoking_status       0.0\n",
       "stroke               0.0\n",
       "dtype: float64"
      ]
     },
     "execution_count": 27,
     "metadata": {},
     "output_type": "execute_result"
    }
   ],
   "source": [
    "#Percentage of NAN Values\n",
    "df.isna().mean().round(4) * 100"
   ]
  },
  {
   "cell_type": "code",
   "execution_count": 28,
   "metadata": {},
   "outputs": [],
   "source": [
    "df.to_csv('/Users/ominguet/Desktop/ClassImbalance_MedicalDatasets/data/processed/cerebralstroke_processed.csv')\n",
    "path_new = '/Users/ominguet/Desktop/ClassImbalance_MedicalDatasets/data/processed/cerebralstroke_processed.csv'"
   ]
  },
  {
   "cell_type": "code",
   "execution_count": 29,
   "metadata": {},
   "outputs": [
    {
     "name": "stdout",
     "output_type": "stream",
     "text": [
      "-------------------------------------------------------------\n",
      "\n",
      "Representation of the distribution of numeric data:\n",
      "\n",
      "\n"
     ]
    },
    {
     "data": {
      "image/png": "[encoded data removed]",
      "text/plain": [
       "<Figure size 1440x720 with 1 Axes>"
      ]
     },
     "metadata": {
      "needs_background": "light"
     },
     "output_type": "display_data"
    },
    {
     "data": {
      "image/png": "[encoded data removed]",
      "text/plain": [
       "<Figure size 1080x720 with 16 Axes>"
      ]
     },
     "metadata": {
      "needs_background": "light"
     },
     "output_type": "display_data"
    },
    {
     "data": {
      "image/png": "[encoded data removed]",
      "text/plain": [
       "<Figure size 720x720 with 2 Axes>"
      ]
     },
     "metadata": {
      "needs_background": "light"
     },
     "output_type": "display_data"
    },
    {
     "name": "stdout",
     "output_type": "stream",
     "text": [
      "-------------------------------------------------------------\n"
     ]
    }
   ],
   "source": [
    "eda_datadistribution(path_new)"
   ]
  },
  {
   "cell_type": "markdown",
   "metadata": {},
   "source": [
    "---"
   ]
  },
  {
   "cell_type": "markdown",
   "metadata": {},
   "source": [
    "<a id=\"FI\"></a>\n",
    "# 3. Feature Importance"
   ]
  },
  {
   "cell_type": "markdown",
   "metadata": {},
   "source": [
    "## Diabetes classification with LightGBM - SHAP"
   ]
  },
  {
   "cell_type": "code",
   "execution_count": null,
   "metadata": {},
   "outputs": [],
   "source": [
    "# !conda install lightgbm -y -U\n",
    "# !pip install shap"
   ]
  },
  {
   "cell_type": "code",
   "execution_count": null,
   "metadata": {},
   "outputs": [],
   "source": [
    "from sklearn.model_selection import train_test_split\n",
    "import lightgbm as lgb # Light GBM is a gradient boosting framework that uses tree based learning algorithm\n",
    "import shap\n",
    "\n",
    "# print the JS visualization code to the notebook\n",
    "shap.initjs()"
   ]
  },
  {
   "cell_type": "markdown",
   "metadata": {},
   "source": [
    "### Load dataset"
   ]
  },
  {
   "cell_type": "code",
   "execution_count": null,
   "metadata": {},
   "outputs": [],
   "source": [
    "X = df.drop('stroke', axis=1)\n",
    "y = df['stroke']\n",
    "\n",
    "# create a train/test split\n",
    "train_x, test_x, train_y, test_y = train_test_split(X,y, test_size = 0.2,random_state=7)\n",
    "print(train_x.shape, train_y.shape)\n",
    "print(test_x.shape, test_y.shape)"
   ]
  },
  {
   "cell_type": "code",
   "execution_count": null,
   "metadata": {},
   "outputs": [],
   "source": [
    "d_train = lgb.Dataset(train_x, label=train_y)\n",
    "d_test = lgb.Dataset(test_x, label=test_y)"
   ]
  },
  {
   "cell_type": "markdown",
   "metadata": {},
   "source": [
    "### Train the model"
   ]
  },
  {
   "cell_type": "code",
   "execution_count": null,
   "metadata": {},
   "outputs": [],
   "source": [
    "params = {\n",
    "    \"max_bin\": 512,\n",
    "    \"learning_rate\": 0.05,\n",
    "    \"boosting_type\": \"gbdt\",\n",
    "    \"objective\": \"binary\",\n",
    "    \"metric\": \"binary_logloss\",\n",
    "    \"num_leaves\": 10,\n",
    "    \"verbose\": -1,\n",
    "    \"min_data\": 100,\n",
    "    \"boost_from_average\": True\n",
    "}\n",
    "\n",
    "model = lgb.train(params, d_train, 10000, valid_sets=[d_test], early_stopping_rounds=50, verbose_eval=1000)"
   ]
  },
  {
   "cell_type": "markdown",
   "metadata": {},
   "source": [
    "### Explain predictions"
   ]
  },
  {
   "cell_type": "code",
   "execution_count": null,
   "metadata": {},
   "outputs": [],
   "source": [
    "explainer = shap.TreeExplainer(model)\n",
    "shap_values = explainer.shap_values(X)"
   ]
  },
  {
   "cell_type": "markdown",
   "metadata": {},
   "source": [
    "#### SHAP Summary Plot"
   ]
  },
  {
   "cell_type": "code",
   "execution_count": null,
   "metadata": {},
   "outputs": [],
   "source": [
    "shap.summary_plot(shap_values, X)"
   ]
  },
  {
   "cell_type": "markdown",
   "metadata": {},
   "source": [
    "---"
   ]
  },
  {
   "cell_type": "markdown",
   "metadata": {},
   "source": [
    "<a id=\"FE\"></a>\n",
    "# 4. Feature Normalization"
   ]
  },
  {
   "cell_type": "code",
   "execution_count": null,
   "metadata": {},
   "outputs": [],
   "source": [
    "from sklearn.preprocessing import RobustScaler"
   ]
  },
  {
   "cell_type": "code",
   "execution_count": null,
   "metadata": {},
   "outputs": [],
   "source": [
    "# separate the columns into target and predictors \n",
    "X = df.drop('stroke', axis=1).values\n",
    "y = df['stroke']"
   ]
  },
  {
   "cell_type": "code",
   "execution_count": null,
   "metadata": {},
   "outputs": [],
   "source": [
    "# split the dataset into a training and test sets.\n",
    "X_train, X_test, y_train, y_test = train_test_split(X, y, test_size=0.2, shuffle=True, stratify=y, random_state=13)\n",
    "print('Train:', X_train.shape, y_train.shape)\n",
    "print('Test:', X_test.shape, y_test.shape)"
   ]
  },
  {
   "cell_type": "code",
   "execution_count": null,
   "metadata": {},
   "outputs": [],
   "source": [
    "# perform a robust scaler transform of the dataset\n",
    "rs = RobustScaler()\n",
    "X_train = rs.fit_transform(X_train)\n",
    "X_test = rs.transform(X_test)"
   ]
  },
  {
   "cell_type": "markdown",
   "metadata": {},
   "source": [
    "---"
   ]
  },
  {
   "cell_type": "markdown",
   "metadata": {},
   "source": [
    "<a id=\"ST\"></a>\n",
    "# 5. Sampling Techniques"
   ]
  },
  {
   "cell_type": "code",
   "execution_count": null,
   "metadata": {},
   "outputs": [],
   "source": [
    "from collections import Counter\n",
    "from sklearn import metrics\n",
    "from sklearn.metrics import accuracy_score, confusion_matrix, precision_recall_fscore_support, roc_curve, auc\n",
    "from imblearn.over_sampling import RandomOverSampler, SMOTE, SMOTENC, BorderlineSMOTE, SVMSMOTE, KMeansSMOTE, ADASYN\n",
    "from imblearn.under_sampling import RandomUnderSampler, ClusterCentroids, NearMiss, InstanceHardnessThreshold, TomekLinks, CondensedNearestNeighbour, AllKNN\n",
    "from imblearn.under_sampling import EditedNearestNeighbours, RepeatedEditedNearestNeighbours, OneSidedSelection, NeighbourhoodCleaningRule\n",
    "from imblearn.combine import SMOTEENN, SMOTETomek \n",
    "from imblearn.ensemble import EasyEnsembleClassifier, RUSBoostClassifier, BalancedBaggingClassifier, BalancedRandomForestClassifier"
   ]
  },
  {
   "cell_type": "code",
   "execution_count": null,
   "metadata": {},
   "outputs": [],
   "source": [
    "def evaluate_classificationmodel(X_train, X_test, y_train, y_test, model):\n",
    "    \"\"\"  \n",
    "    Evaluation of a trained binary probabilistic classification model\n",
    "   \n",
    "    Args:\n",
    "        X_train, X_test, y_train, y_test\n",
    "        model: binary classification supervised model\n",
    "    \n",
    "    Return: dict\n",
    "        results: {\n",
    "            accuracy\n",
    "            precision, recall, fscore \n",
    "            n_occurrences\n",
    "            predictions_count\n",
    "            tp - true positive\n",
    "            tn - true negative\n",
    "            fp - false positive\n",
    "            fn - false negative\n",
    "            auc - area under the curve\n",
    "            }\n",
    "    \"\"\"\n",
    "    # model fitting\n",
    "    model.fit(X_train, y_train)\n",
    "    # prediction for the evaluation set\n",
    "    predictions = model.predict(X_test)\n",
    "    # accuracy\n",
    "    accuracy = metrics.accuracy_score(y_test, predictions)   \n",
    "    # precision, recall and f1 score\n",
    "    precision, recall, fscore, support = metrics.precision_recall_fscore_support(y_test, predictions)\n",
    "    # confusion matrix\n",
    "    tn, fp, fn, tp = metrics.confusion_matrix(y_test, predictions).ravel()    \n",
    "    # fpr and tpr values for various thresholds \n",
    "    fpr, tpr, thresholds = metrics.roc_curve(y_test, predictions, pos_label = 1) \n",
    "    # area under the curve\n",
    "    auc_ = metrics.auc(fpr, tpr)    \n",
    "    # gather results\n",
    "    result = {'accuracy': accuracy,\n",
    "              'precision':precision,\n",
    "              'recall':recall,\n",
    "              'fscore':fscore, \n",
    "              'n_occurences':support,\n",
    "              'predictions_count': Counter(predictions),\n",
    "              'tp':tp, \n",
    "              'tn':tn, \n",
    "              'fp':fp,\n",
    "              'fn':fn, \n",
    "              'auc':auc_}\n",
    "    \n",
    "    return result"
   ]
  },
  {
   "cell_type": "code",
   "execution_count": null,
   "metadata": {},
   "outputs": [],
   "source": [
    "def resampling_techniques_pipeline(X_train, X_test, y_train, y_test, model):\n",
    "    \"\"\"    \n",
    "    Args:\n",
    "        X_train, X_test, y_train, y_test: test and train split data samples\n",
    "        model: a trained binary probabilistic classification model\n",
    "    \n",
    "    Return: dict\n",
    "        results: OverSampling, UnderSampling and Hybrid techniques\n",
    "    \"\"\"\n",
    "   \n",
    "    results = {'ordinary':{},\n",
    "               'class_weight':{},\n",
    "               'oversample':{},\n",
    "               'undersample':{},\n",
    "               'hybrid':{}}\n",
    "    \n",
    "    # ------- Ordinary ----------\n",
    "    results['ordinary'] = evaluate_classificationmodel(X_train, X_test, y_train, y_test, model)\n",
    "    \n",
    "    # ------- Class weight -------\n",
    "    if 'class_weight' in model.get_params().keys():\n",
    "        model.set_params(class_weight='balanced')\n",
    "        results['class_weight'] = evaluate_classificationmodel(X_train, X_test, y_train, y_test, model)\n",
    "        \n",
    "    # ------ OverSampling techniques -----\n",
    "    print('   Oversampling methods:')\n",
    "    techniques = [RandomOverSampler(), SMOTE(), SMOTENC(categorical_features=[1,2]), BorderlineSMOTE(), SVMSMOTE(), \n",
    "                  KMeansSMOTE(cluster_balance_threshold=0.01), ADASYN()]\n",
    "    for sampler in techniques:\n",
    "        technique = sampler.__class__.__name__\n",
    "        print(f'Technique:{technique}')\n",
    "        print(f'Before resampling: {sorted(Counter(y_train).items())}')\n",
    "        X_resampled, y_resampled = sampler.fit_resample(X_train, y_train)\n",
    "        print(f'After resampling: {sorted(Counter(y_resampled).items())}')        \n",
    "        results['oversample'][technique] = evaluate_classificationmodel(X_resampled, X_test, y_resampled, y_test, model)\n",
    "        \n",
    "    # ------ UnderSampling techniques --------\n",
    "    print('   Undersampling methods:')\n",
    "    techniques = [RandomUnderSampler(), ClusterCentroids(), NearMiss(), InstanceHardnessThreshold(), TomekLinks(), CondensedNearestNeighbour(), AllKNN(),\n",
    "                  EditedNearestNeighbours(), RepeatedEditedNearestNeighbours(), OneSidedSelection(), NeighbourhoodCleaningRule()]\n",
    "    for sampler in techniques:\n",
    "        technique = sampler.__class__.__name__\n",
    "        print(f'Technique:{technique}')\n",
    "        print(f'Before resampling: {sorted(Counter(y_train).items())}')\n",
    "        X_resampled, y_resampled = sampler.fit_resample(X_train, y_train)\n",
    "        print(f'After resampling: {sorted(Counter(y_resampled).items())}')        \n",
    "        results['undersample'][technique] = evaluate_classificationmodel(X_resampled, X_test, y_resampled, y_test, model)\n",
    "        \n",
    "    # ------ Hybrid techniques --------\n",
    "    print(   'Hybrid methods:')\n",
    "    techniques = [SMOTEENN(), SMOTETomek()]\n",
    "    for sampler in techniques:\n",
    "        technique = sampler.__class__.__name__\n",
    "        print(f'Technique:{technique}')\n",
    "        print(f'Before resampling: {sorted(Counter(y_train).items())}')\n",
    "        X_resampled, y_resampled = sampler.fit_resample(X_train, y_train)\n",
    "        print(f'After resampling: {sorted(Counter(y_resampled).items())}')        \n",
    "        results['hybrid'][technique] = evaluate_classificationmodel(X_resampled, X_test, y_resampled, y_test, model)\n",
    "        \n",
    "    # # ------ Ensemble techniques --------\n",
    "    # print('-------- Ensemble methods ---------')\n",
    "    # techniques = [EasyEnsembleClassifier(), RUSBoostClassifier(), BalancedBaggingClassifier(), BalancedRandomForestClassifier()]\n",
    "    # for sampler in techniques:\n",
    "    #     technique = sampler.__class__.__name__\n",
    "    #     print(f'Technique:{technique}')\n",
    "    #     print(f'Before resampling: {sorted(Counter(y_train).items())}')\n",
    "    #     X_resampled, y_resampled = sampler.fit_resample(X_train, y_train)\n",
    "    #     print(f'After resampling: {sorted(Counter(y_resampled).items())}')        \n",
    "    #     results['ensemble'][technique] = evaluate_model(X_resampled, X_test, y_resampled, y_test, model)\n",
    "    \n",
    "    return results"
   ]
  },
  {
   "cell_type": "markdown",
   "metadata": {},
   "source": [
    "---"
   ]
  },
  {
   "cell_type": "markdown",
   "metadata": {},
   "source": [
    "<a id=\"Mo\"></a>\n",
    "# 6. Modelling"
   ]
  },
  {
   "cell_type": "code",
   "execution_count": null,
   "metadata": {},
   "outputs": [],
   "source": [
    "from sklearn.svm import SVC\n",
    "from sklearn.tree import DecisionTreeClassifier\n",
    "from sklearn.naive_bayes import GaussianNB\n",
    "from sklearn.neighbors import KNeighborsClassifier\n",
    "from sklearn.linear_model import LogisticRegression"
   ]
  },
  {
   "cell_type": "markdown",
   "metadata": {},
   "source": [
    "---"
   ]
  },
  {
   "cell_type": "markdown",
   "metadata": {},
   "source": [
    "<a id=\"MOE\"></a>\n",
    "# 7. Model Evaluation"
   ]
  },
  {
   "cell_type": "code",
   "execution_count": null,
   "metadata": {},
   "outputs": [],
   "source": [
    "def evaluate_resamplingmethod(results, method, metrics = ['precision', 'recall', 'fscore']):\n",
    "    \"\"\"\n",
    "    Evaluation of resampling techniques pipeline of the trained binary probabilistic classification model    \n",
    "    \n",
    "    Args:\n",
    "        results: Model evaluation outputs\n",
    "        method: oversample, undersample, hybrid\n",
    "        metrics: precision, recall, fscore\n",
    "    \n",
    "    Return:\n",
    "        None\n",
    "    \"\"\"\n",
    "    \n",
    "    fig, ax = plt.subplots(1, 3, sharey = True, figsize=(20,6)) \n",
    "    \n",
    "    for i, metric in enumerate(metrics):\n",
    "        ax[i].axhline(results['ordinary'][metric][0], label = 'No Resampling')\n",
    "        if results['class_weight']:\n",
    "            ax[i].bar(0, results['class_weight'][metric][0], label = 'Adjust Class Weight')\n",
    "        ax[0].legend()\n",
    "        for j, (technique, result) in enumerate(results[method].items()):\n",
    "            ax[i].bar(j+1, result[metric][0], label = technique)\n",
    "        ax[i].set_title(f'Cerebral Stroke:\\n{metric}')"
   ]
  },
  {
   "cell_type": "code",
   "execution_count": null,
   "metadata": {},
   "outputs": [],
   "source": [
    "def metrics_dataframe(results):\n",
    "    \"\"\"\n",
    "    Creates a dataframe from the results obtained in the evaluation of the models\n",
    "    \n",
    "    Args:\n",
    "        results: Model evaluation outputs\n",
    "    \n",
    "    Return:\n",
    "        df\n",
    "    \"\"\"\n",
    "    \n",
    "    # ordinary results\n",
    "    ordinary = results.get('ordinary', {})\n",
    "    df_ordinary = pd.DataFrame.from_dict(ordinary, orient='index').T\n",
    "    df_ordinary.insert(0, 'method','ordinary')\n",
    "    \n",
    "    #class weight results\n",
    "    class_weight = results.get('class_weight',{})\n",
    "    df_classweight = pd.DataFrame.from_dict(class_weight, orient='index').T\n",
    "    df_classweight.insert(0, 'method','class_weight')\n",
    "    \n",
    "    # sampling techniques results\n",
    "    sampling = pd.concat({k: pd.DataFrame.from_dict(v, 'index') for k, v in results.items()}, axis=0)\n",
    "    sampling = sampling.drop(0, axis=1)\n",
    "    sampling = sampling.dropna(how='all')\n",
    "    sampling = sampling.droplevel(0, axis=0)\n",
    "    sampling.index.name = 'method'\n",
    "    sampling = sampling.reset_index()\n",
    "    \n",
    "    #concat dataframes\n",
    "    output = pd.concat([df_ordinary, df_classweight], ignore_index=True)\n",
    "    results = pd.concat([output, sampling], ignore_index=True)\n",
    "    \n",
    "    return results"
   ]
  },
  {
   "cell_type": "markdown",
   "metadata": {},
   "source": [
    "---"
   ]
  },
  {
   "cell_type": "markdown",
   "metadata": {},
   "source": [
    "<a id=\"RS\"></a>\n",
    "# 8. Results"
   ]
  },
  {
   "cell_type": "markdown",
   "metadata": {},
   "source": [
    "<a id=\"SVM\"></a>\n",
    "## Support Vector Machine (SVM)"
   ]
  },
  {
   "cell_type": "code",
   "execution_count": null,
   "metadata": {},
   "outputs": [],
   "source": [
    "%%time\n",
    "model_svc = SVC()\n",
    "results_svc = resampling_techniques_pipeline(X_train, X_test, y_train, y_test, model_svc)"
   ]
  },
  {
   "cell_type": "code",
   "execution_count": null,
   "metadata": {},
   "outputs": [],
   "source": [
    "evaluate_resamplingmethod(results_svc, 'undersample')"
   ]
  },
  {
   "cell_type": "code",
   "execution_count": null,
   "metadata": {},
   "outputs": [],
   "source": [
    "evaluate_resamplingmethod(results_svc, 'oversample')"
   ]
  },
  {
   "cell_type": "code",
   "execution_count": null,
   "metadata": {},
   "outputs": [],
   "source": [
    "evaluate_resamplingmethod(results_svc, 'hybrid')"
   ]
  },
  {
   "cell_type": "code",
   "execution_count": null,
   "metadata": {},
   "outputs": [],
   "source": [
    "svc = metrics_dataframe(results_svc)\n",
    "svc.to_html('svc_results_stroke.html')"
   ]
  },
  {
   "cell_type": "markdown",
   "metadata": {},
   "source": [
    "<a id=\"DT\"></a>\n",
    "\n",
    "## Decision Tree (DT)"
   ]
  },
  {
   "cell_type": "code",
   "execution_count": null,
   "metadata": {},
   "outputs": [],
   "source": [
    "%%time\n",
    "model_tree = DecisionTreeClassifier()\n",
    "results_tree = resampling_techniques_pipeline(X_train, X_test, y_train, y_test, model_tree)"
   ]
  },
  {
   "cell_type": "code",
   "execution_count": null,
   "metadata": {},
   "outputs": [],
   "source": [
    "evaluate_resamplingmethod(results_tree, 'undersample')"
   ]
  },
  {
   "cell_type": "code",
   "execution_count": null,
   "metadata": {},
   "outputs": [],
   "source": [
    "evaluate_resamplingmethod(results_tree, 'oversample')"
   ]
  },
  {
   "cell_type": "code",
   "execution_count": null,
   "metadata": {},
   "outputs": [],
   "source": [
    "evaluate_resamplingmethod(results_tree, 'hybrid')"
   ]
  },
  {
   "cell_type": "code",
   "execution_count": null,
   "metadata": {},
   "outputs": [],
   "source": [
    "tree = metrics_dataframe(results_tree)\n",
    "tree.to_html('tree_results_stroke.html')"
   ]
  },
  {
   "cell_type": "markdown",
   "metadata": {},
   "source": [
    "<a id=\"GNB\"></a>\n",
    "## Gaussian Naïve Bayes (GNB)"
   ]
  },
  {
   "cell_type": "code",
   "execution_count": null,
   "metadata": {},
   "outputs": [],
   "source": [
    "%%time\n",
    "model_gnb = GaussianNB()\n",
    "results_gnb = resampling_techniques_pipeline(X_train, X_test, y_train, y_test, model_gnb)"
   ]
  },
  {
   "cell_type": "code",
   "execution_count": null,
   "metadata": {},
   "outputs": [],
   "source": [
    "evaluate_resamplingmethod(results_gnb, 'undersample')"
   ]
  },
  {
   "cell_type": "code",
   "execution_count": null,
   "metadata": {},
   "outputs": [],
   "source": [
    "evaluate_resamplingmethod(results_gnb, 'oversample')"
   ]
  },
  {
   "cell_type": "code",
   "execution_count": null,
   "metadata": {},
   "outputs": [],
   "source": [
    "evaluate_resamplingmethod(results_gnb, 'hybrid')"
   ]
  },
  {
   "cell_type": "code",
   "execution_count": null,
   "metadata": {},
   "outputs": [],
   "source": [
    "gnb = metrics_dataframe(results_gnb)\n",
    "gnb.to_html('gnb_results_stroke.html')"
   ]
  },
  {
   "cell_type": "markdown",
   "metadata": {},
   "source": [
    "<a id=\"KNN\"></a>\n",
    "## K-Nearest Neighbourhood (KNN)"
   ]
  },
  {
   "cell_type": "code",
   "execution_count": null,
   "metadata": {},
   "outputs": [],
   "source": [
    "%%time\n",
    "model_knn = KNeighborsClassifier()\n",
    "results_knn = resampling_techniques_pipeline(X_train, X_test, y_train, y_test, model_knn)"
   ]
  },
  {
   "cell_type": "code",
   "execution_count": null,
   "metadata": {},
   "outputs": [],
   "source": [
    "evaluate_resamplingmethod(results_knn, 'undersample')"
   ]
  },
  {
   "cell_type": "code",
   "execution_count": null,
   "metadata": {},
   "outputs": [],
   "source": [
    "evaluate_resamplingmethod(results_knn, 'oversample')"
   ]
  },
  {
   "cell_type": "code",
   "execution_count": null,
   "metadata": {},
   "outputs": [],
   "source": [
    "evaluate_resamplingmethod(results_knn, 'hybrid')"
   ]
  },
  {
   "cell_type": "code",
   "execution_count": null,
   "metadata": {},
   "outputs": [],
   "source": [
    "knn = metrics_dataframe(results_knn)\n",
    "knn.to_html('knn_results_stroke.html')"
   ]
  },
  {
   "cell_type": "markdown",
   "metadata": {},
   "source": [
    "<a id=\"LR\"></a>\n",
    "## Logistic Regression (LR)"
   ]
  },
  {
   "cell_type": "code",
   "execution_count": null,
   "metadata": {},
   "outputs": [],
   "source": [
    "%%time\n",
    "model_lr = LogisticRegression()\n",
    "results_lr = resampling_techniques_pipeline(X_train, X_test, y_train, y_test, model_lr)"
   ]
  },
  {
   "cell_type": "code",
   "execution_count": null,
   "metadata": {},
   "outputs": [],
   "source": [
    "evaluate_resamplingmethod(results_lr, 'undersample')"
   ]
  },
  {
   "cell_type": "code",
   "execution_count": null,
   "metadata": {},
   "outputs": [],
   "source": [
    "evaluate_resamplingmethod(results_lr, 'oversample')"
   ]
  },
  {
   "cell_type": "code",
   "execution_count": null,
   "metadata": {},
   "outputs": [],
   "source": [
    "evaluate_resamplingmethod(results_lr, 'hybrid')"
   ]
  },
  {
   "cell_type": "code",
   "execution_count": null,
   "metadata": {},
   "outputs": [],
   "source": [
    "lr = metrics_dataframe(results_lr)\n",
    "lr.to_html('lr_results_stroke.html')"
   ]
  },
  {
   "cell_type": "code",
   "execution_count": null,
   "metadata": {},
   "outputs": [],
   "source": []
  }
 ],
 "metadata": {
  "kernelspec": {
   "display_name": "Python 3 (ipykernel)",
   "language": "python",
   "name": "python3"
  },
  "language_info": {
   "codemirror_mode": {
    "name": "ipython",
    "version": 3
   },
   "file_extension": ".py",
   "mimetype": "text/x-python",
   "name": "python",
   "nbconvert_exporter": "python",
   "pygments_lexer": "ipython3",
   "version": "3.9.7"
  }
 },
 "nbformat": 4,
 "nbformat_minor": 4
}
